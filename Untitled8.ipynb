{
  "nbformat": 4,
  "nbformat_minor": 0,
  "metadata": {
    "colab": {
      "provenance": []
    },
    "kernelspec": {
      "name": "python3",
      "display_name": "Python 3"
    },
    "language_info": {
      "name": "python"
    }
  },
  "cells": [
    {
      "cell_type": "code",
      "execution_count": 1,
      "metadata": {
        "id": "zLBCVCaeF9jx"
      },
      "outputs": [],
      "source": [
        "BD = {}"
      ]
    },
    {
      "cell_type": "code",
      "source": [
        "def registro(baseDatos):\n",
        "  usuario = input(\"Ingrese un nombre de usuario: \")\n",
        "  contraseña = input(\"Ingrese una contraseña de letras y/o números: \")\n",
        "  baseDatos[usuario] = contraseña"
      ],
      "metadata": {
        "id": "XXRVUfBtGBgW"
      },
      "execution_count": 4,
      "outputs": []
    },
    {
      "cell_type": "code",
      "source": [
        "registro(BD)"
      ],
      "metadata": {
        "colab": {
          "base_uri": "https://localhost:8080/"
        },
        "id": "q0ghI7DcGQRa",
        "outputId": "6db4f503-b33f-4ccd-e9c5-04a4818f373c"
      },
      "execution_count": 5,
      "outputs": [
        {
          "name": "stdout",
          "output_type": "stream",
          "text": [
            "Ingrese un nombre de usuario: Kevin\n",
            "Ingrese una contraseña de letras y/o números: 1234\n"
          ]
        }
      ]
    },
    {
      "cell_type": "code",
      "source": [
        "def mostrarBaseDatos(baseDatos):\n",
        "  for user, password in baseDatos.items():\n",
        "    print(f\"\\n El usuario es: {user} \\n La contraseña es: {password}\")"
      ],
      "metadata": {
        "id": "VOhA_kM3HRQU"
      },
      "execution_count": 7,
      "outputs": []
    },
    {
      "cell_type": "code",
      "source": [
        "mostrarBaseDatos(BD)"
      ],
      "metadata": {
        "colab": {
          "base_uri": "https://localhost:8080/"
        },
        "id": "Ci5_I7b8HVHD",
        "outputId": "d13af60c-ab3b-41b6-9b07-58c8c53e8689"
      },
      "execution_count": 12,
      "outputs": [
        {
          "output_type": "stream",
          "name": "stdout",
          "text": [
            "\n",
            " El usuario es: Kevin \n",
            " La contraseña es: 1234\n"
          ]
        }
      ]
    },
    {
      "cell_type": "code",
      "source": [
        "def login(baseDatos):\n",
        "    usuario = input(\"Ingrese su nombre de usuario: \")\n",
        "    contraseña = input(\"Ingrese su contraseña: \")\n",
        "\n",
        "    if usuario in baseDatos and baseDatos[usuario] == contraseña:\n",
        "        print(\"¡Sesión iniciada correctamente!\")\n",
        "    else:\n",
        "        print(\"Nombre de usuario o contraseña incorrecto/a.\")"
      ],
      "metadata": {
        "id": "QRl5H99SIkAZ"
      },
      "execution_count": 10,
      "outputs": []
    },
    {
      "cell_type": "code",
      "source": [
        "login(BD)"
      ],
      "metadata": {
        "colab": {
          "base_uri": "https://localhost:8080/"
        },
        "id": "p2EIBrlwIqDW",
        "outputId": "5c975510-7f43-4dbb-c36d-a44612e9725b"
      },
      "execution_count": 11,
      "outputs": [
        {
          "output_type": "stream",
          "name": "stdout",
          "text": [
            "Ingrese su nombre de usuario: Kevin\n",
            "Ingrese su contraseña: 1234\n",
            "¡Sesión iniciada correctamente!\n"
          ]
        }
      ]
    }
  ]
}